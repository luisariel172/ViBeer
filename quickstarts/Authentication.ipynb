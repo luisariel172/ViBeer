{
  "cells": [
    {
      "cell_type": "markdown",
      "metadata": {
        "id": "view-in-github",
        "colab_type": "text"
      },
      "source": [
        "<a href=\"https://colab.research.google.com/github/luisariel172/ViBeer/blob/main/quickstarts/Authentication.ipynb\" target=\"_parent\"><img src=\"https://colab.research.google.com/assets/colab-badge.svg\" alt=\"Open In Colab\"/></a>"
      ]
    },
    {
      "cell_type": "markdown",
      "metadata": {
        "id": "Tce3stUlHN0L"
      },
      "source": [
        "##### Copyright 2025 Google LLC."
      ]
    },
    {
      "cell_type": "code",
      "execution_count": null,
      "metadata": {
        "cellView": "form",
        "id": "tuOe1ymfHZPu"
      },
      "outputs": [],
      "source": [
        "# @title Licensed under the Apache License, Version 2.0 (the \"License\");\n",
        "# you may not use this file except in compliance with the License.\n",
        "# You may obtain a copy of the License at\n",
        "#\n",
        "# https://www.apache.org/licenses/LICENSE-2.0\n",
        "#\n",
        "# Unless required by applicable law or agreed to in writing, software\n",
        "# distributed under the License is distributed on an \"AS IS\" BASIS,\n",
        "# WITHOUT WARRANTIES OR CONDITIONS OF ANY KIND, either express or implied.\n",
        "# See the License for the specific language governing permissions and\n",
        "# limitations under the License."
      ]
    },
    {
      "cell_type": "markdown",
      "metadata": {
        "id": "yeadDkMiISin"
      },
      "source": [
        "# Gemini API: Authentication Quickstart"
      ]
    },
    {
      "cell_type": "markdown",
      "metadata": {
        "id": "lEXQ3OwKIa-O"
      },
      "source": [
        "<a target=\"_blank\" href=\"https://colab.research.google.com/github/google-gemini/cookbook/blob/main/quickstarts/Authentication.ipynb\"><img src=\"https://colab.research.google.com/assets/colab-badge.svg\" height=30/></a>"
      ]
    },
    {
      "cell_type": "markdown",
      "metadata": {
        "id": "df1767a3d1cc"
      },
      "source": [
        "The Gemini API uses API keys for authentication. This notebook walks you through creating an API key, and using it with the Python SDK or a command-line tool like `curl`."
      ]
    },
    {
      "cell_type": "markdown",
      "metadata": {
        "id": "mhFKmRmxi5B-"
      },
      "source": [
        "## Create an API key\n",
        "\n",
        "You can [create](https://aistudio.google.com/app/apikey) your API key using Google AI Studio with a single click.  \n",
        "\n",
        "Remember to treat your API key like a password. Do not accidentally save it in a notebook or source file you later commit to GitHub. This notebook shows you two ways you can securely store your API key.\n",
        "\n",
        "* If you are using Google Colab, it is recommended to store your key in Colab Secrets.\n",
        "\n",
        "* If you are using a different development environment (or calling the Gemini API through `cURL` in your terminal), it is recommended to store your key in an [environment variable](https://en.wikipedia.org/wiki/Environment_variable).\n",
        "\n",
        "Let's start with Colab Secrets."
      ]
    },
    {
      "cell_type": "markdown",
      "metadata": {
        "id": "dEoigYI9Jw_K"
      },
      "source": [
        "## Add your key to Colab Secrets\n",
        "\n",
        "Add your API key to the Colab Secrets manager to securely store it.\n",
        "\n",
        "1. Open your Google Colab notebook and click on the 🔑 **Secrets** tab in the left panel.\n",
        "   \n",
        "   <img src=\"https://storage.googleapis.com/generativeai-downloads/images/secrets.jpg\" alt=\"You can find the Secrets tab on the left panel.\" width=50%>\n",
        "\n",
        "2. Create a new secret with the name `GOOGLE_API_KEY`.\n",
        "3. Copy and paste your API key into the `Value` input box of `GOOGLE_API_KEY`.\n",
        "4. Toggle the button on the left to allow all notebooks access to the secret.\n"
      ]
    },
    {
      "cell_type": "markdown",
      "metadata": {
        "id": "jRY1eioF4gUB"
      },
      "source": [
        "## Install the Python SDK"
      ]
    },
    {
      "cell_type": "code",
      "execution_count": 1,
      "metadata": {
        "id": "xuiLSV7amy3P",
        "outputId": "b7e1f92d-235b-4d30-fe28-26c50aeb6b7b",
        "colab": {
          "base_uri": "https://localhost:8080/"
        }
      },
      "outputs": [
        {
          "output_type": "stream",
          "name": "stdout",
          "text": [
            "\u001b[?25l   \u001b[90m━━━━━━━━━━━━━━━━━━━━━━━━━━━━━━━━━━━━━━━━\u001b[0m \u001b[32m0.0/165.9 kB\u001b[0m \u001b[31m?\u001b[0m eta \u001b[36m-:--:--\u001b[0m\r\u001b[2K   \u001b[91m━━━━━━━━━━━━━━━━━━━━━━━━━━━━━━━━━━━━━━━\u001b[0m\u001b[90m╺\u001b[0m \u001b[32m163.8/165.9 kB\u001b[0m \u001b[31m10.3 MB/s\u001b[0m eta \u001b[36m0:00:01\u001b[0m\r\u001b[2K   \u001b[90m━━━━━━━━━━━━━━━━━━━━━━━━━━━━━━━━━━━━━━━━\u001b[0m \u001b[32m165.9/165.9 kB\u001b[0m \u001b[31m3.4 MB/s\u001b[0m eta \u001b[36m0:00:00\u001b[0m\n",
            "\u001b[?25h"
          ]
        }
      ],
      "source": [
        "%pip install -qU 'google-genai>=1.0.0'"
      ]
    },
    {
      "cell_type": "markdown",
      "metadata": {
        "id": "3dw8ygh74mVc"
      },
      "source": [
        "## Configure the SDK with your API key\n",
        "\n",
        "You create a client using your API key, but instead of pasting your key into the notebook, you will read it from Colab Secrets thanks to `userdata`."
      ]
    },
    {
      "cell_type": "code",
      "execution_count": 5,
      "metadata": {
        "id": "DTl-qZp34sht"
      },
      "outputs": [],
      "source": [
        "from google import genai\n",
        "from google.colab import userdata\n",
        "\n",
        "GOOGLE_API_KEY = userdata.get('GOOGLE_API_KEY')\n",
        "client = genai.Client(api_key=GOOGLE_API_KEY)"
      ]
    },
    {
      "cell_type": "markdown",
      "metadata": {
        "id": "b7ceb7517bf5"
      },
      "source": [
        "Now choose a model. The Gemini API offers different models that are optimized for specific use cases. For more information check [Gemini models](https://ai.google.dev/gemini-api/docs/models)"
      ]
    },
    {
      "cell_type": "code",
      "execution_count": 6,
      "metadata": {
        "id": "7135d9ae3e4b"
      },
      "outputs": [],
      "source": [
        "MODEL_ID = \"gemini-2.0-flash-lite\" # @param [\"gemini-2.0-flash-lite\",\"gemini-2.0-flash\",\"gemini-2.5-flash-preview-04-17\",\"gemini-2.5-pro-exp-03-25\"] {\"allow-input\":true, isTemplate: true}"
      ]
    },
    {
      "cell_type": "markdown",
      "metadata": {
        "id": "tr7oAO6-nMsE"
      },
      "source": [
        "And that's it! Now you are ready to call the Gemini API."
      ]
    },
    {
      "cell_type": "code",
      "execution_count": 7,
      "metadata": {
        "id": "n6sXnWrJoKoo",
        "outputId": "35793e41-4b99-480d-e700-ba2066e37ab1",
        "colab": {
          "base_uri": "https://localhost:8080/",
          "height": 1000
        }
      },
      "outputs": [
        {
          "output_type": "display_data",
          "data": {
            "text/plain": [
              "<IPython.core.display.Markdown object>"
            ],
            "text/markdown": "```python\ndef sort_list(my_list, reverse=False):\n  \"\"\"\n  Sorts a list in ascending or descending order.\n\n  Args:\n    my_list: The list to be sorted.\n    reverse:  A boolean, True for descending order, False (default) for ascending.\n\n  Returns:\n    A new list containing the sorted elements.\n  \"\"\"\n\n  # Using the built-in sorted() function (recommended)\n  return sorted(my_list, reverse=reverse)\n\n  # Alternatively, to sort the list in-place (modifies the original list)\n  #  my_list.sort(reverse=reverse)\n  #  return my_list\n  \n\n# Example usage:\n\n# Create a list\nmy_numbers = [5, 2, 8, 1, 9, 4]\n\n# Sort in ascending order (default)\nsorted_numbers_asc = sort_list(my_numbers)\nprint(\"Ascending:\", sorted_numbers_asc)  # Output: Ascending: [1, 2, 4, 5, 8, 9]\n\n# Sort in descending order\nsorted_numbers_desc = sort_list(my_numbers, reverse=True)\nprint(\"Descending:\", sorted_numbers_desc)  # Output: Descending: [9, 8, 5, 4, 2, 1]\n\n\n# Example with strings:\nmy_strings = [\"apple\", \"banana\", \"cherry\", \"date\"]\nsorted_strings = sort_list(my_strings)\nprint(\"Strings (ascending):\", sorted_strings)  # Output: Strings (ascending): ['apple', 'banana', 'cherry', 'date']\n\n#Important Notes:\n\n*   **`sorted()` vs. `list.sort()`**:\n\n    *   `sorted(my_list)`:  Creates and returns a *new* sorted list, leaving the original list unchanged.  This is generally safer if you need to preserve the original data.\n    *   `my_list.sort()`: Sorts the list *in-place*. It modifies the original list directly and returns `None`. Use this if you're sure you don't need the original list later and want to save memory.\n\n*   **Data Types**:  The `sort()` and `sorted()` functions work on lists containing elements of a comparable data type (e.g., numbers, strings). If you have a list with mixed data types that can't be compared directly (e.g., a mix of numbers and strings), you'll likely get a `TypeError`.  You might need to sort based on a specific key if that's the case (see below).\n\n*   **Sorting with a Key Function (more advanced)**:  You can customize the sorting behavior using the `key` parameter with `sorted()` or `sort()`.  This allows you to sort based on the result of a function applied to each element.  For example, to sort a list of strings by their length:\n\n    ```python\n    my_strings = [\"apple\", \"banana\", \"kiwi\", \"date\"]\n    sorted_by_length = sorted(my_strings, key=len)\n    print(sorted_by_length)  # Output: ['kiwi', 'date', 'apple', 'banana']\n    ```\n\n    The `key=len` means \"sort based on the length of each string.\"  You can use your own custom functions as the `key` as well.\n"
          },
          "metadata": {}
        }
      ],
      "source": [
        "from IPython.display import Markdown\n",
        "\n",
        "response = client.models.generate_content(\n",
        "    model=MODEL_ID,\n",
        "    contents=\"Please give me python code to sort a list.\"\n",
        ")\n",
        "\n",
        "display(Markdown(response.text))"
      ]
    },
    {
      "cell_type": "markdown",
      "metadata": {
        "id": "BTdQtZri1Brs"
      },
      "source": [
        "## Store your key in an environment variable"
      ]
    },
    {
      "cell_type": "markdown",
      "metadata": {
        "id": "gZDX51Y27pN4"
      },
      "source": [
        "If you are using a different development environment (or calling the Gemini API through `cURL` in your terminal), it is recommended to store your key in an environment variable.\n",
        "\n",
        "To store your key in an environment variable, open your terminal and run:\n",
        "\n",
        "```export GOOGLE_API_KEY=\"YOUR_API_KEY\"```\n",
        "\n",
        "If you are using Python, you can add these two lines to your notebook to read the key:\n",
        "\n",
        "```\n",
        "import os\n",
        "client = genai.Client(api_key=os.environ['GOOGLE_API_KEY'])\n",
        "```\n",
        "\n",
        "Alternatively, if it is not provided explicitly, the client will look for the API key.\n",
        "\n",
        "```\n",
        "client = genai.Client()\n",
        "```\n",
        "\n",
        "Or, if you are calling the API through your terminal using `cURL`, you can copy and paste this code to read your key from the environment variable.\n",
        "\n",
        "```\n",
        "curl \"https://generativelanguage.googleapis.com/v1beta/models/gemini-2.0-flash:generateContent?key=$GOOGLE_API_KEY\" \\\n",
        "    -H 'Content-Type: application/json' \\\n",
        "    -X POST \\\n",
        "    -d '{\n",
        "      \"contents\": [{\n",
        "        \"parts\":[{\n",
        "          \"text\": \"Please give me Python code to sort a list.\"\n",
        "        }]\n",
        "      }]\n",
        "    }'\n",
        "```\n"
      ]
    },
    {
      "cell_type": "markdown",
      "metadata": {
        "id": "CAOKOcax1xZY"
      },
      "source": [
        "## Learning more\n",
        "\n",
        "Now that you know how to manage your API key, you have everything to [get started](./Get_started.ipynb) with Gemini. Check all the [quickstart guides](https://github.com/google-gemini/cookbook/tree/main/quickstarts) from the Cookbook, and in particular the [Get started](./Get_started.ipynb) one."
      ]
    }
  ],
  "metadata": {
    "colab": {
      "name": "Authentication.ipynb",
      "provenance": [],
      "include_colab_link": true
    },
    "google": {
      "image_path": "/site-assets/images/share.png",
      "keywords": [
        "examples",
        "googleai",
        "samplecode",
        "python",
        "embed",
        "function"
      ]
    },
    "kernelspec": {
      "display_name": "Python 3",
      "name": "python3"
    }
  },
  "nbformat": 4,
  "nbformat_minor": 0
}